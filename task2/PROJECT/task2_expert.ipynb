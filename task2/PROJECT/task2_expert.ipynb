{
 "cells": [
  {
   "cell_type": "code",
   "execution_count": 20,
   "metadata": {},
   "outputs": [],
   "source": [
    "import glob\n",
    "s\n",
    "import numpy as np\n",
    "import cv2 as cv\n",
    "from skimage.morphology import skeletonize\n",
    "\n",
    "\n",
    "from plantcv.plantcv.morphology import prune\n",
    "\n",
    "from plantcv.plantcv import fill, fill_holes\n",
    "import networkx as nx\n",
    "\n",
    "from sknw import build_sknw\n",
    "from sklearn.metrics.pairwise import euclidean_distances"
   ]
  },
  {
   "cell_type": "code",
   "execution_count": 22,
   "metadata": {},
   "outputs": [],
   "source": [
    "def get_skeleton(src):\n",
    "    gray = cv.cvtColor(src, cv.COLOR_BGR2GRAY) # переход к полутоновому изображению\n",
    "    hsv = cv.cvtColor(src, cv.COLOR_BGR2HSV)\n",
    "\n",
    "    lower_blue = np.array([ 70, 45, 94])\n",
    "    upper_blue = np.array([120, 200, 255])\n",
    "    mask = cv.inRange(hsv, lower_blue, upper_blue)\n",
    "    #plt.imshow(mask)\n",
    "    #plt.show()\n",
    "\n",
    "    mask = np.clip(mask, 0, 1).astype(np.uint8)\n",
    "    kernel = cv.getStructuringElement(cv.MORPH_ELLIPSE, (3,3))\n",
    "    tmp = cv.erode(mask,  kernel, iterations=1)\n",
    "    kernel = cv.getStructuringElement(cv.MORPH_ELLIPSE, (10,10))\n",
    "    tmp = cv.dilate(tmp,  kernel, iterations=5)\n",
    "\n",
    "    tmp = skeletonize(np.clip(tmp, 0, 1)).astype(np.uint8)\n",
    "    tmp, _, _ = prune(skel_img=tmp, size=int(110))\n",
    "    return tmp"
   ]
  },
  {
   "cell_type": "code",
   "execution_count": 23,
   "metadata": {},
   "outputs": [],
   "source": [
    "from sklearn.metrics.pairwise import euclidean_distances\n",
    "def merge_equal_points(points, min_dist=100):\n",
    "    pdist = euclidean_distances(points)\n",
    "    merged_points_mask = np.zeros(len(pdist), dtype=bool)\n",
    "    for i in range(len(pdist)):\n",
    "        if merged_points_mask[i]: continue\n",
    "        merged_points_mask |= ((pdist[i] <= min_dist) & (pdist[i] != 0.0))\n",
    "    return points[~merged_points_mask]"
   ]
  },
  {
   "cell_type": "code",
   "execution_count": 27,
   "metadata": {},
   "outputs": [],
   "source": [
    "def dfs(time, circle, src, visited,height,width):\n",
    "    cx = int(circle[0]) # координата x центра вершины\n",
    "    cy = int(circle[1]) # координата y центра вершины\n",
    "    todo = [(cy,cx)]\n",
    "    degree = 0 # искомая степень вершины\n",
    "    while todo:\n",
    "        y,x = todo.pop() # берем координаты пикселя с вершины стека\n",
    "\n",
    "        # ходим только по белым пикселям, которые лежат в пределах картинки и не были посещены ранее в этом же dfs\n",
    "        if not (0 <= y < height) or not (0 <= x < width) or (src[y,x] == 0)  or (visited[y,x] == time):\n",
    "            continue\n",
    "\n",
    "        visited[y,x] = time # помечаем пиксель как посещенный \n",
    "        dist = ((cx - x)**2 + (cy - y)**2) ** 0.5\n",
    "        if dist > 55:\n",
    "            R = 5\n",
    "\n",
    "            # помечаем все пиксели в радиусе R как посещенные\n",
    "            cv.circle(visited, (x,y), R, time, -1) \n",
    "            degree+=1 \n",
    "            continue\n",
    "        \n",
    "        for dy in range(-1, 2):\n",
    "            for dx in range(-1, 2):\n",
    "                ny = y + dy\n",
    "                nx = x + dx\n",
    "                todo += [(ny, nx)]\n",
    "    return degree"
   ]
  },
  {
   "cell_type": "code",
   "execution_count": 28,
   "metadata": {},
   "outputs": [],
   "source": [
    "def get_description_graph(src):\n",
    "    skeleton = get_skeleton(src)\n",
    "    #plt.imshow(skeleton, cmap='gray')\n",
    "    #plt.show()\n",
    "    # строит из скелета граф из networkx\n",
    "    g = build_sknw(skeleton, ring=False, iso=False)\n",
    "    nodes = g.nodes()\n",
    "    # y, x\n",
    "    circles = np.array([nodes[i]['o'] for i in nodes])\n",
    "    # x, y\n",
    "    circles[:, [0, 1]] = circles[:, [1, 0]]\n",
    "    # убираем побочные точки\n",
    "    circles = merge_equal_points(circles, min_dist=45)\n",
    "    for i in circles:\n",
    "           cv.circle(skeleton, (i[0],i[1]), 3, 1, -1)\n",
    "\n",
    "    # массив, где будем хранить посещенные вершины\n",
    "    visited = np.zeros(skeleton.shape, np.uint8) \n",
    "\n",
    "    # ширина и высота изображения\n",
    "    width, height = skeleton.shape[1], skeleton.shape[0] \n",
    "\n",
    "    # массив, в котором k-я компонента есть число вершин степени k в представленном графе\n",
    "    ans = np.zeros(10, np.uint8) \n",
    "\n",
    "    # текущее \"время\". Нужно, чтобы мы не могли ходить по одним и тем же пикселям в вызове одного dfs'а, но могли ходить по одним и тем же пикселям в разных dfs'ах\n",
    "    time = 1\n",
    "\n",
    "    #идем по всем врешинам, считаем их степени в dfs\n",
    "    for i in circles:\n",
    "        \n",
    "        # начинаем поиск в глубину от центра вершины. Функция возвращает степень текущей вершины\n",
    "        cnt = dfs(time, i, skeleton, visited, height, width)\n",
    "        ans[cnt]+=1 # обновляем ответ\n",
    "        time += 1 # обновляем \"время\n",
    "    return ans[3:5]"
   ]
  },
  {
   "cell_type": "code",
   "execution_count": null,
   "metadata": {},
   "outputs": [],
   "source": []
  },
  {
   "cell_type": "code",
   "execution_count": 29,
   "metadata": {},
   "outputs": [
    {
     "name": "stdout",
     "output_type": "stream",
     "text": [
      "processing of image images/Expert/9.jpg\n",
      "processing of image images/Expert/28.jpg\n",
      "processing of image images/Expert/29.jpg\n",
      "processing of image images/Expert/16.jpg\n",
      "processing of image images/Expert/10.jpg\n",
      "processing of image images/Expert/22.jpg\n",
      "processing of image images/Expert/23.jpg\n",
      "processing of image images/Expert/18.jpg\n",
      "\n",
      "ANSWER:\n",
      "CLASS 1: ['images/Expert/16.jpg', 'images/Expert/18.jpg']\n",
      "CLASS 2: ['images/Expert/28.jpg', 'images/Expert/29.jpg']\n",
      "CLASS 3: ['images/Expert/22.jpg', 'images/Expert/23.jpg']\n",
      "CLASS 4: ['images/Expert/9.jpg', 'images/Expert/10.jpg']\n"
     ]
    }
   ],
   "source": [
    "arr = glob.glob('images/Expert/*.jpg')\n",
    "\n",
    "# словарь для классов графа\n",
    "graph_class = {'[3 3]': [], \n",
    "                '[4 1]': [], \n",
    "                '[5 2]': [], \n",
    "                '[4 2]': []}\n",
    "for el in arr:\n",
    "    print('processing of image ' + el)\n",
    "\n",
    "    # считываем изображение\n",
    "    src = cv.imread(el) \n",
    "\n",
    "    # находим массив со всеми степенями вершин\n",
    "    ans = get_description_graph(src) \n",
    "\n",
    "    # для использования массива как ключа в словаре, переводим его в сторку\n",
    "    ans_str = str(ans) \n",
    "    if ans_str not in graph_class:\n",
    "\n",
    "        # создаем новый список под новый класс\n",
    "        graph_class[ans_str] = list() \n",
    "        \n",
    "    # добавляем граф в нужный класс\n",
    "    graph_class[ans_str].append(el) \n",
    "\n",
    "# вывод ответа\n",
    "print('\\nANSWER:')\n",
    "num_class = 0\n",
    "for el in graph_class.values():\n",
    "    num_class += 1\n",
    "    print(\"CLASS\", str(num_class) + \":\", el)"
   ]
  },
  {
   "cell_type": "code",
   "execution_count": null,
   "metadata": {},
   "outputs": [],
   "source": []
  }
 ],
 "metadata": {
  "kernelspec": {
   "display_name": "Python 3.9.13",
   "language": "python",
   "name": "python3"
  },
  "language_info": {
   "codemirror_mode": {
    "name": "ipython",
    "version": 3
   },
   "file_extension": ".py",
   "mimetype": "text/x-python",
   "name": "python",
   "nbconvert_exporter": "python",
   "pygments_lexer": "ipython3",
   "version": "3.9.13"
  },
  "orig_nbformat": 4,
  "vscode": {
   "interpreter": {
    "hash": "6a95a3159dfda2c08b5d712b28a556d6374f5200b4d9ef1616fa04e7e784ad12"
   }
  }
 },
 "nbformat": 4,
 "nbformat_minor": 2
}
